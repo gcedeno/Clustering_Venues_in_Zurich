{
    "nbformat_minor": 2, 
    "cells": [
        {
            "source": "<br><br><center><h1 style=\"font-size:2em;color:#2467C0\">Project: Segmenting and Clustering Neighborhoods in Z\u00fcrich, CH</h1></center>\n<br>\n<table>\n<col width=\"550\">\n<col width=\"450\">\n<tr>\n<td><img src=\"https://media-cdn.tripadvisor.com/media/photo-s/01/2d/b1/8f/zurich.jpg\" align=\"middle\" style=\"width:550px;height:360px;\"/></td>\n<td>\nThis Notebook is part of the capstone project of the IBM Data Science Professional Certificate offer through Coursera. This submission has the solely purpose of defining the problem or task that will be solved by  means of Foursquare location data and Machine Learning Algorithms. All the required tasks to accomplish the project goals will be part of the final report. \n<br>\n<br>\n<br>\nThe data for this project will be gathered from the web through a web scraping process using BeautifulSoup. Additional location data will be gathered from Foursquare using their API.\n<br>\n<br>\nThis Jupyter Notebook was created by: Gustavo Cede\u00f1o\n</tr>\n</table>", 
            "cell_type": "markdown", 
            "metadata": {}
        }, 
        {
            "source": "## Table of Contents\n<ul>\n    \n<li><a href='#intro'>Introduction</a></li>\n    <ul>\n      <li><a href='#projectdetails'>Project Details</a></li>\n</ul>\n    \n\n<li><a href='#wrangling'>Data Wrangling</a></li>\n    <ul>\n      <li><a href='#gathering'>Gathering Data</a></li>\n      <li><a href='#assessing'>Assessing Data</a></li>\n      <li><a href='#cleaning'>Cleaning Data</a></li>\n</ul>\n\n<li><a href='#dac'>Data Analysis and Clustering</a></li>\n    <ul>\n      <li><a href='#visuals'>Creating Visualizations</a></li>\n      <li><a href='#FsQAPI'>Using Foursquare API</a></li>\n      <li><a href='#exploringNei'>Explorint Neighborhoods </a></li>\n      <li><a href='#clustering'>Clustering</a></li>\n      <li><a href='#results'>Results and Discussion</a></li>\n</ul>\n  ", 
            "cell_type": "markdown", 
            "metadata": {}
        }, 
        {
            "source": "<a id='intro'></a>\n# Introduction\n\n>This Notebook contains the project proposal for the capstone project of the IBM Data Science Professional Certificate offer through Coursera. This submission has the solely purpose of defining the problem or task that will be solved by means of Machine Learning Algorithms using Foursquare location data. All the required tasks to accomplish the project goals will be part of the final report. \n\n>Since the goal of the project is segmenting places in the city of Z\u00fcrich, Switzerland, let's begin by exploring some interesting facts about the beautiful city of Z\u00fcrich:\n\n> Z\u00fcrich or Zurich (/\u02c8zj\u028a\u0259r\u026ak/ ZEWR-ik) is the largest city in Switzerland and the capital of the canton of Z\u00fcrich. It is located in north-central Switzerland at the northwestern tip of Lake Z\u00fcrich. The municipality has approximately 409,000 inhabitants. Z\u00fcrich is a hub for railways, roads, and air traffic. Both Zurich Airport and railway station are the largest and busiest in the country.\n\n>Z\u00fcrich is a leading global city and among the world's largest financial centres despite having a relatively small population. The city is home to a large number of financial institutions and banking companies. Most of Switzerland's research and development centres are concentrated in Z\u00fcrich and the low tax rates attract overseas companies to set up their headquarters there. Info taken from: [Z\u00fcrich](https://en.wikipedia.org/wiki/Z%C3%BCrich)\n\n**Problem or idea Definition**\n\n> The main goal of this project is to provide business intelligence for an international company that is willing to open a new restaurant supply shop in Z\u00fcrich. The target market for this kind of business is limited to those within the culinary community. This includes: restaurants, culinary schools, cafeterias(including medical and schools), bars, caterers, bakeries and coffee shops. Therefore, it is of major importance clustering places around the city and find out which ones of those concentrate venues which belong to the target market. This information will help decision makers choosing the right place for opening shops, planning logistics, calculating costs and designing better marketing campaigns.     \n\n<a id='projectdetails'></a>\n## Project Details\n>Main tasks in this project are as follows:\n>1. Gathering data\n>2. Assessing and cleaning data\n>3. Creating Visualizations\n>4. Using the Foursquare API to gather venues information.\n>5. Clustering.\n>6. Results analysis and giving recommedations.\n\n### Data Source\n>1. **Zurich - postal codes**\n\n>All the information regarding postal codes for the different neighborhoods in the city of Z\u00fcrich will be gathered from the website [geonames_postalcodes_CH](https://www.geonames.org/postal-codes/CH/ZH/zurich.html) performing web scraping with the help of BeatifulSoup and then converting the data into a pandas DataFrame for further analysis.\n\n>2. **Additional Data via the Foursquare API**\n\n> All the data related to venues will be gathered from Foursquare location data using their API. [Foursquare](https://foursquare.com/)", 
            "cell_type": "markdown", 
            "metadata": {}
        }, 
        {
            "source": "### 1. Loading the necessary libraries", 
            "cell_type": "markdown", 
            "metadata": {}
        }, 
        {
            "execution_count": null, 
            "cell_type": "code", 
            "metadata": {}, 
            "outputs": [], 
            "source": "import numpy as np # library to handle data in a vectorized manner\n\nimport pandas as pd # library for data analsysis\npd.set_option('display.max_columns', None)\npd.set_option('display.max_rows', None)\n\nimport json # library to handle JSON files\n\n# uncomment this line if you haven't completed the Foursquare API lab\n#!conda install -c conda-forge geopy --yes \nfrom geopy.geocoders import Nominatim # convert an address into latitude and longitude values\n\nimport requests # library to handle requests\nfrom pandas.io.json import json_normalize # tranform JSON file into a pandas dataframe\n\n# Matplotlib and associated plotting modules\nimport matplotlib.cm as cm\nimport matplotlib.colors as colors\n\n# import k-means from clustering stage\nfrom sklearn.cluster import KMeans\n\n# for webscraping import Beautiful Soup \nfrom bs4 import BeautifulSoup\n\nimport xml\n# uncomment this line if you haven't completed the Foursquare API lab\n!conda install -c conda-forge folium=0.5.0 --yes \nimport folium # map rendering library\n\nimport pickle\n\nprint('Libraries imported.')"
        }, 
        {
            "source": "### 2.Scraping the web to obtain the postal codes data for the Neighborhoods in Z\u00fcrich", 
            "cell_type": "markdown", 
            "metadata": {}
        }, 
        {
            "execution_count": null, 
            "cell_type": "code", 
            "metadata": {}, 
            "outputs": [], 
            "source": "# The code was removed by Watson Studio for sharing."
        }, 
        {
            "execution_count": null, 
            "cell_type": "code", 
            "metadata": {}, 
            "outputs": [], 
            "source": "# The code was removed by Watson Studio for sharing."
        }, 
        {
            "source": "### 3. Transforming the data into a pandas dataframe \nThe dataframe will consist of six columns: `Postalcode`,`Kanton`,`Borough`,`Place`,`Latitute` and `Longitude`", 
            "cell_type": "markdown", 
            "metadata": {}
        }, 
        {
            "execution_count": null, 
            "cell_type": "code", 
            "metadata": {}, 
            "outputs": [], 
            "source": "# The code was removed by Watson Studio for sharing."
        }, 
        {
            "execution_count": null, 
            "cell_type": "code", 
            "metadata": {}, 
            "outputs": [], 
            "source": "# The code was removed by Watson Studio for sharing."
        }, 
        {
            "source": "It is necessary to split the coordinates into Latitute and Longitude. ", 
            "cell_type": "markdown", 
            "metadata": {}
        }, 
        {
            "execution_count": null, 
            "cell_type": "code", 
            "metadata": {}, 
            "outputs": [], 
            "source": "# The code was removed by Watson Studio for sharing."
        }, 
        {
            "execution_count": null, 
            "cell_type": "code", 
            "metadata": {}, 
            "outputs": [], 
            "source": "# The code was removed by Watson Studio for sharing."
        }, 
        {
            "execution_count": null, 
            "cell_type": "code", 
            "metadata": {}, 
            "outputs": [], 
            "source": "# The code was removed by Watson Studio for sharing."
        }, 
        {
            "execution_count": null, 
            "cell_type": "code", 
            "metadata": {}, 
            "outputs": [], 
            "source": "# The code was removed by Watson Studio for sharing."
        }, 
        {
            "source": "### 4. Creating a map of Zurich with neighborhoods superimposed on top.", 
            "cell_type": "markdown", 
            "metadata": {}
        }, 
        {
            "execution_count": null, 
            "cell_type": "code", 
            "metadata": {}, 
            "outputs": [], 
            "source": "# The code was removed by Watson Studio for sharing."
        }, 
        {
            "execution_count": null, 
            "cell_type": "code", 
            "metadata": {}, 
            "outputs": [], 
            "source": "# The code was removed by Watson Studio for sharing."
        }, 
        {
            "source": "### 3. Using the Foursquare API to explore the neighborhoods and segment them.", 
            "cell_type": "markdown", 
            "metadata": {}
        }, 
        {
            "source": "#### Defining Foursquare Credentials and Version.", 
            "cell_type": "markdown", 
            "metadata": {}
        }, 
        {
            "execution_count": null, 
            "cell_type": "code", 
            "metadata": {}, 
            "outputs": [], 
            "source": "# The code was removed by Watson Studio for sharing."
        }, 
        {
            "source": "#### Exploring the first neighborhood in the dataframe.", 
            "cell_type": "markdown", 
            "metadata": {}
        }, 
        {
            "execution_count": null, 
            "cell_type": "code", 
            "metadata": {}, 
            "outputs": [], 
            "source": "# The code was removed by Watson Studio for sharing."
        }, 
        {
            "execution_count": null, 
            "cell_type": "code", 
            "metadata": {}, 
            "outputs": [], 
            "source": "# The code was removed by Watson Studio for sharing."
        }, 
        {
            "source": "#### Now, let's get the top 100 venues that are in  Rouge, Malvern within a radius of 1000 meters.", 
            "cell_type": "markdown", 
            "metadata": {}
        }, 
        {
            "source": "First, let's create the GET request URL. Name your URL **url**.", 
            "cell_type": "markdown", 
            "metadata": {}
        }, 
        {
            "execution_count": null, 
            "cell_type": "code", 
            "metadata": {}, 
            "outputs": [], 
            "source": "# The code was removed by Watson Studio for sharing."
        }, 
        {
            "execution_count": null, 
            "cell_type": "code", 
            "metadata": {}, 
            "outputs": [], 
            "source": "# The code was removed by Watson Studio for sharing."
        }, 
        {
            "execution_count": null, 
            "cell_type": "code", 
            "metadata": {}, 
            "outputs": [], 
            "source": "# The code was removed by Watson Studio for sharing."
        }, 
        {
            "execution_count": null, 
            "cell_type": "code", 
            "metadata": {}, 
            "outputs": [], 
            "source": "# The code was removed by Watson Studio for sharing."
        }, 
        {
            "execution_count": null, 
            "cell_type": "code", 
            "metadata": {}, 
            "outputs": [], 
            "source": "# The code was removed by Watson Studio for sharing."
        }, 
        {
            "source": "#### Using a function to repeat the same process to all the neighborhoods in Zurich", 
            "cell_type": "markdown", 
            "metadata": {}
        }, 
        {
            "execution_count": null, 
            "cell_type": "code", 
            "metadata": {}, 
            "outputs": [], 
            "source": "# The code was removed by Watson Studio for sharing."
        }, 
        {
            "source": "#### Creating a new dataframe called *zurich_venues*.", 
            "cell_type": "markdown", 
            "metadata": {}
        }, 
        {
            "execution_count": null, 
            "cell_type": "code", 
            "metadata": {}, 
            "outputs": [], 
            "source": "# The code was removed by Watson Studio for sharing."
        }, 
        {
            "source": "#### Let's check the size of the resulting dataframe", 
            "cell_type": "markdown", 
            "metadata": {}
        }, 
        {
            "execution_count": null, 
            "cell_type": "code", 
            "metadata": {}, 
            "outputs": [], 
            "source": "# The code was removed by Watson Studio for sharing."
        }, 
        {
            "execution_count": null, 
            "cell_type": "code", 
            "metadata": {}, 
            "outputs": [], 
            "source": "# The code was removed by Watson Studio for sharing."
        }, 
        {
            "source": "#### Let's find out how many unique categories can be curated from all the returned venues", 
            "cell_type": "markdown", 
            "metadata": {}
        }, 
        {
            "execution_count": null, 
            "cell_type": "code", 
            "metadata": {}, 
            "outputs": [], 
            "source": "# The code was removed by Watson Studio for sharing."
        }, 
        {
            "source": "### 4. Analyzing Each Neighborhood", 
            "cell_type": "markdown", 
            "metadata": {}
        }, 
        {
            "execution_count": null, 
            "cell_type": "code", 
            "metadata": {}, 
            "outputs": [], 
            "source": "# The code was removed by Watson Studio for sharing."
        }, 
        {
            "execution_count": null, 
            "cell_type": "code", 
            "metadata": {}, 
            "outputs": [], 
            "source": "# The code was removed by Watson Studio for sharing."
        }, 
        {
            "source": "#### Next, let's group rows by neighborhood and by taking the mean of the frequency of occurrence of each category", 
            "cell_type": "markdown", 
            "metadata": {}
        }, 
        {
            "execution_count": null, 
            "cell_type": "code", 
            "metadata": {}, 
            "outputs": [], 
            "source": "# The code was removed by Watson Studio for sharing."
        }, 
        {
            "execution_count": null, 
            "cell_type": "code", 
            "metadata": {}, 
            "outputs": [], 
            "source": "# The code was removed by Watson Studio for sharing."
        }, 
        {
            "execution_count": null, 
            "cell_type": "code", 
            "metadata": {}, 
            "outputs": [], 
            "source": "# The code was removed by Watson Studio for sharing."
        }, 
        {
            "source": "\n### Let's print each neighborhood along with the top 5 most common venues", 
            "cell_type": "markdown", 
            "metadata": {}
        }, 
        {
            "execution_count": null, 
            "cell_type": "code", 
            "metadata": {}, 
            "outputs": [], 
            "source": "# The code was removed by Watson Studio for sharing."
        }, 
        {
            "source": "#### Let's put that into a *pandas* dataframe\nFirst, let's write a function to sort the venues in descending order.", 
            "cell_type": "markdown", 
            "metadata": {}
        }, 
        {
            "execution_count": null, 
            "cell_type": "code", 
            "metadata": {}, 
            "outputs": [], 
            "source": "# The code was removed by Watson Studio for sharing."
        }, 
        {
            "source": "Now let's create the new dataframe and display the top 10 venues for each neighborhood.", 
            "cell_type": "markdown", 
            "metadata": {}
        }, 
        {
            "execution_count": null, 
            "cell_type": "code", 
            "metadata": {}, 
            "outputs": [], 
            "source": "# The code was removed by Watson Studio for sharing."
        }, 
        {
            "source": "### 5. Cluster Neighborhoods\nRun *k*-means to cluster the neighborhood into 5 clusters.", 
            "cell_type": "markdown", 
            "metadata": {}
        }, 
        {
            "execution_count": null, 
            "cell_type": "code", 
            "metadata": {}, 
            "outputs": [], 
            "source": "# The code was removed by Watson Studio for sharing."
        }, 
        {
            "source": "Let's create a new dataframe that includes the cluster as well as the top 10 venues for each neighborhood.", 
            "cell_type": "markdown", 
            "metadata": {}
        }, 
        {
            "execution_count": null, 
            "cell_type": "code", 
            "metadata": {}, 
            "outputs": [], 
            "source": "# The code was removed by Watson Studio for sharing."
        }, 
        {
            "execution_count": null, 
            "cell_type": "code", 
            "metadata": {}, 
            "outputs": [], 
            "source": "# The code was removed by Watson Studio for sharing."
        }, 
        {
            "execution_count": null, 
            "cell_type": "code", 
            "metadata": {}, 
            "outputs": [], 
            "source": "# The code was removed by Watson Studio for sharing."
        }, 
        {
            "source": "Finally, let's visualize the resulting clusters", 
            "cell_type": "markdown", 
            "metadata": {}
        }, 
        {
            "execution_count": null, 
            "cell_type": "code", 
            "metadata": {}, 
            "outputs": [], 
            "source": "# The code was removed by Watson Studio for sharing."
        }, 
        {
            "source": "### 6. Examine Clusters", 
            "cell_type": "markdown", 
            "metadata": {}
        }, 
        {
            "source": "Now,we can examine each cluster and determine the discriminating venue categories that distinguish each cluster. Based on the defining categories, we can then assign a name to each cluster. ", 
            "cell_type": "markdown", 
            "metadata": {}
        }, 
        {
            "source": "#### Cluster 1", 
            "cell_type": "markdown", 
            "metadata": {}
        }, 
        {
            "execution_count": null, 
            "cell_type": "code", 
            "metadata": {}, 
            "outputs": [], 
            "source": "# The code was removed by Watson Studio for sharing."
        }, 
        {
            "source": "#### Cluster 2", 
            "cell_type": "markdown", 
            "metadata": {}
        }, 
        {
            "execution_count": null, 
            "cell_type": "code", 
            "metadata": {}, 
            "outputs": [], 
            "source": "# The code was removed by Watson Studio for sharing."
        }, 
        {
            "source": "#### Cluster 3", 
            "cell_type": "markdown", 
            "metadata": {}
        }, 
        {
            "execution_count": null, 
            "cell_type": "code", 
            "metadata": {}, 
            "outputs": [], 
            "source": "# The code was removed by Watson Studio for sharing."
        }, 
        {
            "source": "#### Cluster 4", 
            "cell_type": "markdown", 
            "metadata": {}
        }, 
        {
            "execution_count": null, 
            "cell_type": "code", 
            "metadata": {}, 
            "outputs": [], 
            "source": "# The code was removed by Watson Studio for sharing."
        }, 
        {
            "source": "#### Cluster 5", 
            "cell_type": "markdown", 
            "metadata": {}
        }, 
        {
            "execution_count": null, 
            "cell_type": "code", 
            "metadata": {}, 
            "outputs": [], 
            "source": "# The code was removed by Watson Studio for sharing."
        }, 
        {
            "source": "# References\n* [Geo_Data_Switzerland](http://www.ralphstraumann.ch/blog/2011/10/zipscribble-map-switzerland-part-i/)\n* [geonames_postalcodes_CH](https://www.geonames.org/postal-codes/CH/ZH/zurich.html)\n* [BeautifulSoup Documentation](https://www.crummy.com/software/BeautifulSoup/bs4/doc/)\n* [Web Scraping Wikipedia Tables using BeautifulSoup and Python](https://medium.com/analytics-vidhya/web-scraping-wiki-tables-using-beautifulsoup-and-python-6b9ea26d8722)\n* [Foursquare](https://foursquare.com/)", 
            "cell_type": "markdown", 
            "metadata": {}
        }, 
        {
            "execution_count": null, 
            "cell_type": "code", 
            "metadata": {}, 
            "outputs": [], 
            "source": ""
        }
    ], 
    "metadata": {
        "kernelspec": {
            "display_name": "Python 3.5", 
            "name": "python3", 
            "language": "python"
        }, 
        "language_info": {
            "mimetype": "text/x-python", 
            "nbconvert_exporter": "python", 
            "version": "3.5.5", 
            "name": "python", 
            "file_extension": ".py", 
            "pygments_lexer": "ipython3", 
            "codemirror_mode": {
                "version": 3, 
                "name": "ipython"
            }
        }
    }, 
    "nbformat": 4
}